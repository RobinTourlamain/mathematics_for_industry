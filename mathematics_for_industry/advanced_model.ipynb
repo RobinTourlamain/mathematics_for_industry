{
 "cells": [
  {
   "cell_type": "code",
   "execution_count": 48,
   "metadata": {},
   "outputs": [],
   "source": [
    "# Inspired by https://www.sciencedirect.com/science/article/pii/S0377221723000735"
   ]
  },
  {
   "cell_type": "code",
   "execution_count": 49,
   "metadata": {},
   "outputs": [],
   "source": [
    "import gurobipy as gp\n",
    "\n",
    "# Create a new model\n",
    "m = gp.Model()"
   ]
  },
  {
   "cell_type": "code",
   "execution_count": 50,
   "metadata": {},
   "outputs": [],
   "source": [
    "# Initialize problem parameters\n",
    "scraps = 3\n",
    "boxes = 6\n",
    "\n",
    "set_scraps = range(0, scraps)\n",
    "set_boxes = range(0, boxes + 1)\n",
    "\n",
    "# Box distance matrix\n",
    "d = [[0, 1, 2, 3, 4, 5, 6],\n",
    "    [1, 0, 1, 2, 3, 4, 5],\n",
    "    [2, 1, 0, 1, 2, 3, 4],\n",
    "    [3, 2, 1, 0, 1, 2, 3],\n",
    "    [4, 3, 2, 1, 0, 1, 2],\n",
    "    [5, 4, 3, 2, 1, 0, 1],\n",
    "    [6, 5, 4, 3, 2, 1, 0]]\n",
    "\n",
    "recipes = [[0, 1], [1, 2], [2, 0]]\n",
    "set_recipes = range(0, len(recipes))"
   ]
  },
  {
   "cell_type": "code",
   "execution_count": 51,
   "metadata": {},
   "outputs": [],
   "source": [
    "# Create variables\n",
    "\n",
    "# Scrap s is assigned to box b\n",
    "x = {}\n",
    "for scrap in set_scraps:\n",
    "    for box in set_boxes:\n",
    "        x[scrap, box] = m.addVar(vtype='B', name=f\"x[{scrap},{box}]\")\n",
    "\n",
    "# Box b is in solution path for recipe r\n",
    "y = {}\n",
    "for box in set_boxes:\n",
    "    for recipe in set_recipes:\n",
    "        y[box, recipe] = m.addVar(vtype='B', name=f\"y[{box},{recipe}]\")\n",
    "\n",
    "# Edge b1 -> b2 is in solution path for recipe r\n",
    "z = {}\n",
    "for b1 in set_boxes:\n",
    "    for b2 in set_boxes:\n",
    "        for recipe in set_recipes:\n",
    "            z[b1, b2, recipe] = m.addVar(vtype='B', name=f\"z[{b1},{b2},{recipe}]\")\n",
    "\n",
    "# Box b1 precedes b2 somewhere in solution path for recipe r\n",
    "p = {}\n",
    "for b1 in set_boxes:\n",
    "    for b2 in set_boxes:\n",
    "        for recipe in set_recipes:\n",
    "            p[b1, b2, recipe] = m.addVar(vtype='B', name=f\"p[{b1},{b2},{recipe}]\")"
   ]
  },
  {
   "cell_type": "code",
   "execution_count": 52,
   "metadata": {},
   "outputs": [],
   "source": [
    "# Add constraints\n",
    "\n",
    "# Each scrap is assigned to at least one box\n",
    "for s in set_scraps:\n",
    "    m.addConstr(sum(x[s, b] for b in set_boxes[1:]) >= 1)\n",
    "\n",
    "# Each box is assigned at most one scrap\n",
    "for b in set_boxes[1:]:\n",
    "    m.addConstr(sum(x[s, b] for s in set_scraps) == 1)\n",
    "\n",
    "# Dummy box is empty\n",
    "m.addConstr(sum(x[s, 0] for s in set_scraps) == 0)\n",
    "\n",
    "# The number of boxes in a solution for recipe r is equal to the number of scraps required by the recipe\n",
    "for r in set_recipes:\n",
    "    m.addConstr(sum(y[b, r] for b in set_boxes) == len(recipes[r]))\n",
    "\n",
    "# There is exactly one box b in the solution path for recipe r that corresponds to each scrap s\n",
    "for r in set_recipes:\n",
    "    for s in recipes[r]:\n",
    "        m.addConstr(sum(x[s, b] * y[b, r] for b in set_boxes) == 1)\n",
    "\n",
    "# There is one incoming edge to each box b in the solution path for recipe r\n",
    "for r in set_recipes:\n",
    "    for b2 in set_boxes:\n",
    "        m.addConstr(sum(z[b1, b2, r] for b1 in set_boxes) == y[b2, r])\n",
    "\n",
    "# There is one outgoing edge from each box b in the solution path for recipe r\n",
    "for r in set_recipes:\n",
    "    for b1 in set_boxes:\n",
    "        m.addConstr(sum(z[b1, b2, r] for b2 in set_boxes) == y[b1, r])\n",
    "\n",
    "# Subtour elimination constraints\n",
    "for r in set_recipes:\n",
    "    for b1 in set_boxes[1:]:\n",
    "        for b2 in set_boxes[1:]:\n",
    "            m.addConstr(p[b1, b2, r] >= z[b1, b2, r])\n",
    "\n",
    "for r in set_recipes:\n",
    "    for b1 in set_boxes[1:]:\n",
    "        for b2 in set_boxes[1:]:\n",
    "            m.addConstr(p[b1, b2, r] + p[b2, b1, r] == y[b1, r] * y[b2, r])\n",
    "\n",
    "for r in set_recipes:\n",
    "    for b1 in set_boxes[1:]:\n",
    "        for b2 in set_boxes[1:]:\n",
    "            for b3 in set_boxes[1:]:\n",
    "                m.addConstr(p[b1, b2, r] + p[b2, b3, r] + p[b3, b1, r] <= 2)\n",
    "        "
   ]
  },
  {
   "cell_type": "code",
   "execution_count": 53,
   "metadata": {},
   "outputs": [],
   "source": [
    "# Set objective function\n",
    "\n",
    "# Test\n",
    "# objective = gp.quicksum(x[1, b] for b in set_boxes)\n",
    "\n",
    "objective = gp.quicksum(d[b1][b2] * z[b1, b2, r] for b1 in set_boxes for b2 in set_boxes for r in set_recipes)\n",
    "\n",
    "m.setObjective(objective, gp.GRB.MINIMIZE)"
   ]
  },
  {
   "cell_type": "code",
   "execution_count": 54,
   "metadata": {},
   "outputs": [
    {
     "name": "stdout",
     "output_type": "stream",
     "text": [
      "Gurobi Optimizer version 11.0.3 build v11.0.3rc0 (win64 - Windows 11.0 (22631.2))\n",
      "\n",
      "CPU model: AMD Ryzen 9 PRO 7940HS w/ Radeon 780M Graphics, instruction set [SSE2|AVX|AVX2|AVX512]\n",
      "Thread count: 8 physical cores, 16 logical processors, using up to 16 threads\n",
      "\n",
      "Optimize a model with 811 rows, 336 columns and 2520 nonzeros\n",
      "Model fingerprint: 0x972a86a6\n",
      "Model has 114 quadratic constraints\n",
      "Variable types: 0 continuous, 336 integer (336 binary)\n",
      "Coefficient statistics:\n",
      "  Matrix range     [1e+00, 3e+00]\n",
      "  QMatrix range    [1e+00, 1e+00]\n",
      "  QLMatrix range   [1e+00, 2e+00]\n",
      "  Objective range  [1e+00, 6e+00]\n",
      "  Bounds range     [1e+00, 1e+00]\n",
      "  RHS range        [1e+00, 2e+00]\n",
      "  QRHS range       [1e+00, 1e+00]\n",
      "Presolve removed 307 rows and 75 columns\n",
      "Presolve time: 0.00s\n",
      "\n",
      "Explored 0 nodes (0 simplex iterations) in 0.01 seconds (0.00 work units)\n",
      "Thread count was 1 (of 16 available processors)\n",
      "\n",
      "Solution count 0\n",
      "\n",
      "Model is infeasible\n",
      "Best objective -, best bound -, gap -\n"
     ]
    }
   ],
   "source": [
    "# Solve it!\n",
    "m.optimize()"
   ]
  },
  {
   "cell_type": "code",
   "execution_count": 55,
   "metadata": {},
   "outputs": [
    {
     "ename": "AttributeError",
     "evalue": "Unable to retrieve attribute 'objVal'",
     "output_type": "error",
     "traceback": [
      "\u001b[1;31m---------------------------------------------------------------------------\u001b[0m",
      "\u001b[1;31mAttributeError\u001b[0m                            Traceback (most recent call last)",
      "Cell \u001b[1;32mIn[55], line 2\u001b[0m\n\u001b[0;32m      1\u001b[0m \u001b[38;5;66;03m# Show solution\u001b[39;00m\n\u001b[1;32m----> 2\u001b[0m \u001b[38;5;28mprint\u001b[39m(\u001b[38;5;124mf\u001b[39m\u001b[38;5;124m\"\u001b[39m\u001b[38;5;124mOptimal objective value: \u001b[39m\u001b[38;5;132;01m{\u001b[39;00m\u001b[43mm\u001b[49m\u001b[38;5;241;43m.\u001b[39;49m\u001b[43mobjVal\u001b[49m\u001b[38;5;132;01m}\u001b[39;00m\u001b[38;5;124m\"\u001b[39m)\n\u001b[0;32m      4\u001b[0m \u001b[38;5;28;01mfor\u001b[39;00m v \u001b[38;5;129;01min\u001b[39;00m m\u001b[38;5;241m.\u001b[39mgetVars():\n\u001b[0;32m      5\u001b[0m     \u001b[38;5;28;01mif\u001b[39;00m v\u001b[38;5;241m.\u001b[39mX \u001b[38;5;241m>\u001b[39m \u001b[38;5;241m0\u001b[39m:\n",
      "File \u001b[1;32msrc\\\\gurobipy\\\\model.pxi:368\u001b[0m, in \u001b[0;36mgurobipy.Model.__getattr__\u001b[1;34m()\u001b[0m\n",
      "File \u001b[1;32msrc\\\\gurobipy\\\\model.pxi:1896\u001b[0m, in \u001b[0;36mgurobipy.Model.getAttr\u001b[1;34m()\u001b[0m\n",
      "File \u001b[1;32msrc\\\\gurobipy\\\\attrutil.pxi:103\u001b[0m, in \u001b[0;36mgurobipy._getattr\u001b[1;34m()\u001b[0m\n",
      "\u001b[1;31mAttributeError\u001b[0m: Unable to retrieve attribute 'objVal'"
     ]
    }
   ],
   "source": [
    "# Show solution\n",
    "print(f\"Optimal objective value: {m.objVal}\")\n",
    "\n",
    "for v in m.getVars():\n",
    "    if v.X > 0:\n",
    "        print(f\"{v.VarName} = {v.X}\")"
   ]
  }
 ],
 "metadata": {
  "kernelspec": {
   "display_name": "mathematics-for-industry-vnQux07h-py3.11",
   "language": "python",
   "name": "python3"
  },
  "language_info": {
   "codemirror_mode": {
    "name": "ipython",
    "version": 3
   },
   "file_extension": ".py",
   "mimetype": "text/x-python",
   "name": "python",
   "nbconvert_exporter": "python",
   "pygments_lexer": "ipython3",
   "version": "3.11.6"
  }
 },
 "nbformat": 4,
 "nbformat_minor": 2
}
