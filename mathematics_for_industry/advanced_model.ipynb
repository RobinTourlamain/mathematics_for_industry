{
 "cells": [
  {
   "cell_type": "code",
   "execution_count": 1,
   "metadata": {},
   "outputs": [],
   "source": [
    "# Inspired by https://www.sciencedirect.com/science/article/pii/S0377221723000735\n",
    "# https://www.sciencedirect.com/science/article/pii/S0167637704000537"
   ]
  },
  {
   "cell_type": "code",
   "execution_count": 2,
   "metadata": {},
   "outputs": [
    {
     "name": "stdout",
     "output_type": "stream",
     "text": [
      "Set parameter Username\n",
      "Academic license - for non-commercial use only - expires 2025-09-02\n"
     ]
    }
   ],
   "source": [
    "import gurobipy as gp\n",
    "\n",
    "# Create a new model\n",
    "m = gp.Model()"
   ]
  },
  {
   "cell_type": "code",
   "execution_count": 3,
   "metadata": {},
   "outputs": [
    {
     "data": {
      "text/plain": [
       "[{(0, 1): 1, (1, 0): 0}, {(2, 0): 1, (0, 2): 0}, {(2, 0): 1, (0, 2): 0}]"
      ]
     },
     "execution_count": 3,
     "metadata": {},
     "output_type": "execute_result"
    }
   ],
   "source": [
    "# Initialize problem parameters\n",
    "scraps = 3\n",
    "boxes = 5\n",
    "\n",
    "set_scraps = range(0, scraps)\n",
    "set_boxes = range(0, boxes + 1)\n",
    "\n",
    "# Box distance matrix\n",
    "d = [[0, 1, 2, 3, 4, 5, 6],\n",
    "    [1, 0, 1, 2, 3, 4, 5],\n",
    "    [2, 1, 0, 1, 2, 3, 4],\n",
    "    [3, 2, 1, 0, 1, 2, 3],\n",
    "    [4, 3, 2, 1, 0, 1, 2],\n",
    "    [5, 4, 3, 2, 1, 0, 1],\n",
    "    [6, 5, 4, 3, 2, 1, 0]]\n",
    "\n",
    "recipes = [[0, 1], [2, 0], [2, 0]]\n",
    "set_recipes = range(0, len(recipes))\n",
    "\n",
    "# Set matrix to 1 if scrap s1 comes anywhere before scrap s2 in recipe r\n",
    "recipes_precedence_matrix = []\n",
    "for r in set_recipes:\n",
    "    dict = {}\n",
    "    for s1 in recipes[r]:\n",
    "        for s2 in recipes[r]:\n",
    "            if s1 == s2: continue\n",
    "            if recipes[r].index(s1) < recipes[r].index(s2):\n",
    "                dict[(s1, s2)] = 1\n",
    "            else:\n",
    "                dict[(s1, s2)] = 0\n",
    "    \n",
    "    recipes_precedence_matrix.append(dict)\n",
    "\n",
    "recipes_precedence_matrix"
   ]
  },
  {
   "cell_type": "code",
   "execution_count": 4,
   "metadata": {},
   "outputs": [],
   "source": [
    "# Create variables\n",
    "\n",
    "# Scrap s is assigned to box b\n",
    "x = {}\n",
    "for scrap in set_scraps:\n",
    "    for box in set_boxes:\n",
    "        x[scrap, box] = m.addVar(vtype='B', name=f\"x[{scrap},{box}]\")\n",
    "\n",
    "# Box b is in solution path for recipe r\n",
    "y = {}\n",
    "for box in set_boxes:\n",
    "    for recipe in set_recipes:\n",
    "        y[box, recipe] = m.addVar(vtype='B', name=f\"y[{box},{recipe}]\")\n",
    "\n",
    "# Edge b1 -> b2 is in solution path for recipe r\n",
    "z = {}\n",
    "for b1 in set_boxes:\n",
    "    for b2 in set_boxes:\n",
    "        if b1 != b2:\n",
    "            for recipe in set_recipes:\n",
    "                z[b1, b2, recipe] = m.addVar(vtype='B', name=f\"z[{b1},{b2},{recipe}]\")\n",
    "\n",
    "# Box b1 precedes b2 somewhere in solution path for recipe r\n",
    "p = {}\n",
    "for b1 in set_boxes:\n",
    "    for b2 in set_boxes:\n",
    "        if b1 != b2:\n",
    "            for recipe in set_recipes:\n",
    "                p[b1, b2, recipe] = m.addVar(vtype='B', name=f\"p[{b1},{b2},{recipe}]\")"
   ]
  },
  {
   "cell_type": "code",
   "execution_count": 5,
   "metadata": {},
   "outputs": [],
   "source": [
    "# Add constraints\n",
    "\n",
    "# Each scrap is assigned to at least one box\n",
    "for s in set_scraps:\n",
    "    m.addConstr(sum(x[s, b] for b in set_boxes[1:]) >= 1)\n",
    "\n",
    "# Each box is assigned at most one scrap\n",
    "for b in set_boxes[1:]:\n",
    "    m.addConstr(sum(x[s, b] for s in set_scraps) == 1)\n",
    "\n",
    "# Dummy box is empty\n",
    "m.addConstr(sum(x[s, 0] for s in set_scraps) == 0)\n",
    "\n",
    "# The number of boxes in a solution for recipe r is equal to the number of scraps required by the recipe + 1\n",
    "for r in set_recipes:\n",
    "    m.addConstr(sum(y[b, r] for b in set_boxes) == len(recipes[r]) + 1)\n",
    "\n",
    "# There is exactly one box b in the solution path for recipe r that corresponds to each scrap s\n",
    "for r in set_recipes:\n",
    "    for s in recipes[r]:\n",
    "        m.addConstr(sum(x[s, b] * y[b, r] for b in set_boxes) == 1)\n",
    "\n",
    "# There is one incoming edge to each box b in the solution path for recipe r\n",
    "for r in set_recipes:\n",
    "    for b2 in set_boxes:\n",
    "        m.addConstr(sum(z[b1, b2, r] for b1 in set_boxes if b1 != b2) == y[b2, r])\n",
    "\n",
    "# There is one outgoing edge from each box b in the solution path for recipe r\n",
    "for r in set_recipes:\n",
    "    for b1 in set_boxes:\n",
    "        m.addConstr(sum(z[b1, b2, r] for b2 in set_boxes  if b1 != b2) == y[b1, r])\n",
    "\n",
    "# Subtour elimination constraints\n",
    "for r in set_recipes:\n",
    "    for b1 in set_boxes[1:]:\n",
    "        for b2 in set_boxes[1:]:\n",
    "            if b1 != b2:\n",
    "                m.addConstr(p[b1, b2, r] >= z[b1, b2, r])\n",
    "\n",
    "for r in set_recipes:\n",
    "    for b1 in set_boxes[1:]:\n",
    "        for b2 in set_boxes[1:]:\n",
    "            if b1 != b2:\n",
    "                m.addConstr(p[b1, b2, r] + p[b2, b1, r] == y[b1, r] * y[b2, r])\n",
    "\n",
    "for r in set_recipes:\n",
    "    for b1 in set_boxes[1:]:\n",
    "        for b2 in set_boxes[1:]:\n",
    "            for b3 in set_boxes[1:]:\n",
    "                if b1 != b2 and b2 != b3 and b1 != b3:\n",
    "                    m.addConstr(p[b1, b2, r] + p[b2, b3, r] + p[b3, b1, r] <= 2)\n",
    "\n",
    "# Precedence constraint\n",
    "# for r in set_recipes:\n",
    "#     for s1 in recipes[r]:\n",
    "#         for s2 in recipes[r]:\n",
    "#             if s1 == s2: continue\n",
    "#             for b1 in set_boxes[1:]:\n",
    "#                 for b2 in set_boxes[1:]:\n",
    "#                     if b1 == b2: continue\n",
    "#                     m.addConstr(x[s1, b1] * x[s2, b2] * recipes_precedence_matrix[r][(s1, s2)] <= p[b1, b2, r])\n",
    "        "
   ]
  },
  {
   "cell_type": "code",
   "execution_count": 6,
   "metadata": {},
   "outputs": [],
   "source": [
    "# Set objective function\n",
    "\n",
    "objective = gp.quicksum(d[b1][b2] * z[b1, b2, r] for b1 in set_boxes for b2 in set_boxes for r in set_recipes if b1 != b2)\n",
    "\n",
    "m.setObjective(objective, gp.GRB.MINIMIZE)"
   ]
  },
  {
   "cell_type": "code",
   "execution_count": 7,
   "metadata": {},
   "outputs": [
    {
     "name": "stdout",
     "output_type": "stream",
     "text": [
      "Gurobi Optimizer version 11.0.3 build v11.0.3rc0 (win64 - Windows 11.0 (22631.2))\n",
      "\n",
      "CPU model: AMD Ryzen 9 PRO 7940HS w/ Radeon 780M Graphics, instruction set [SSE2|AVX|AVX2|AVX512]\n",
      "Thread count: 8 physical cores, 16 logical processors, using up to 16 threads\n",
      "\n",
      "Optimize a model with 288 rows, 216 columns and 927 nonzeros\n",
      "Model fingerprint: 0x57d3d179\n",
      "Model has 66 quadratic constraints\n",
      "Variable types: 0 continuous, 216 integer (216 binary)\n",
      "Coefficient statistics:\n",
      "  Matrix range     [1e+00, 1e+00]\n",
      "  QMatrix range    [1e+00, 1e+00]\n",
      "  QLMatrix range   [1e+00, 1e+00]\n",
      "  Objective range  [1e+00, 5e+00]\n",
      "  Bounds range     [1e+00, 1e+00]\n",
      "  RHS range        [1e+00, 3e+00]\n",
      "  QRHS range       [1e+00, 1e+00]\n",
      "Presolve removed 121 rows and 33 columns\n",
      "Presolve time: 0.00s\n",
      "Presolved: 383 rows, 243 columns, 1104 nonzeros\n",
      "Variable types: 0 continuous, 243 integer (243 binary)\n",
      "Found heuristic solution: objective 24.0000000\n",
      "Found heuristic solution: objective 14.0000000\n",
      "\n",
      "Root relaxation: objective 9.600000e+00, 114 iterations, 0.00 seconds (0.00 work units)\n",
      "\n",
      "    Nodes    |    Current Node    |     Objective Bounds      |     Work\n",
      " Expl Unexpl |  Obj  Depth IntInf | Incumbent    BestBd   Gap | It/Node Time\n",
      "\n",
      "     0     0    9.60000    0   56   14.00000    9.60000  31.4%     -    0s\n",
      "     0     0   12.00000    0   59   14.00000   12.00000  14.3%     -    0s\n",
      "     0     0   12.50000    0   26   14.00000   12.50000  10.7%     -    0s\n",
      "\n",
      "Cutting planes:\n",
      "  Gomory: 6\n",
      "  Zero half: 24\n",
      "  RLT: 5\n",
      "\n",
      "Explored 1 nodes (211 simplex iterations) in 0.04 seconds (0.01 work units)\n",
      "Thread count was 16 (of 16 available processors)\n",
      "\n",
      "Solution count 2: 14 24 \n",
      "\n",
      "Optimal solution found (tolerance 1.00e-04)\n",
      "Best objective 1.400000000000e+01, best bound 1.400000000000e+01, gap 0.0000%\n"
     ]
    }
   ],
   "source": [
    "# Solve it!\n",
    "m.optimize()"
   ]
  },
  {
   "cell_type": "code",
   "execution_count": 8,
   "metadata": {},
   "outputs": [
    {
     "name": "stdout",
     "output_type": "stream",
     "text": [
      "Optimal objective value: 14.0\n",
      "Scrap 0 is assigned to box 1\n",
      "Scrap 2 is assigned to box 2\n",
      "Scrap 1 is assigned to box 3\n",
      "Scrap 1 is assigned to box 4\n",
      "Scrap 1 is assigned to box 5\n",
      "Recipe 0 solution path:\n",
      "Box 0 -> Box 1\n",
      "Box 1 -> Box 3\n",
      "Box 3 -> Box 0\n",
      "Recipe 1 solution path:\n",
      "Box 0 -> Box 1\n",
      "Box 1 -> Box 2\n",
      "Box 2 -> Box 0\n",
      "Recipe 2 solution path:\n",
      "Box 0 -> Box 1\n",
      "Box 1 -> Box 2\n",
      "Box 2 -> Box 0\n"
     ]
    }
   ],
   "source": [
    "# Show solution\n",
    "print(f\"Optimal objective value: {m.objVal}\")\n",
    "\n",
    "# Print scrap assignments\n",
    "for box in set_boxes[1:]:\n",
    "    for scrap in set_scraps:\n",
    "        if x[scrap, box].X > 0:\n",
    "            print(f\"Scrap {scrap} is assigned to box {box}\")\n",
    "\n",
    "# Print solution paths\n",
    "for recipe in set_recipes:\n",
    "    print(f\"Recipe {recipe} solution path:\")\n",
    "    for b1 in set_boxes:\n",
    "        for b2 in set_boxes:\n",
    "            if b1 != b2 and z[b1, b2, recipe].X > 0:\n",
    "                print(f\"Box {b1} -> Box {b2}\")\n",
    "    "
   ]
  }
 ],
 "metadata": {
  "kernelspec": {
   "display_name": "mathematics-for-industry-vnQux07h-py3.11",
   "language": "python",
   "name": "python3"
  },
  "language_info": {
   "codemirror_mode": {
    "name": "ipython",
    "version": 3
   },
   "file_extension": ".py",
   "mimetype": "text/x-python",
   "name": "python",
   "nbconvert_exporter": "python",
   "pygments_lexer": "ipython3",
   "version": "3.11.6"
  }
 },
 "nbformat": 4,
 "nbformat_minor": 2
}
