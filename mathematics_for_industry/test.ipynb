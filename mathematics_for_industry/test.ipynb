{
 "cells": [
  {
   "cell_type": "code",
   "execution_count": null,
   "metadata": {},
   "outputs": [],
   "source": [
    "# Solve the following MIP:\n",
    "#  maximize\n",
    "#        x +   y + 2 z\n",
    "#  subject to\n",
    "#        x + 2 y + 3 z <= 4\n",
    "#        x +   y       >= 1\n",
    "#        x, y, z binary\n",
    "\n",
    "import gurobipy as gp\n",
    "\n",
    "# Create a new model\n",
    "m = gp.Model()\n",
    "\n",
    "# Create variables\n",
    "x = m.addVar(vtype='B', name=\"x\")\n",
    "y = m.addVar(vtype='B', name=\"y\")\n",
    "z = m.addVar(vtype='B', name=\"z\")\n",
    "\n",
    "# Set objective function\n",
    "m.setObjective(x + y + 2 * z, gp.GRB.MAXIMIZE)\n",
    "\n",
    "# Add constraints\n",
    "m.addConstr(x + 2 * y + 3 * z <= 4)\n",
    "m.addConstr(x + y >= 1)\n",
    "\n",
    "# Solve it!\n",
    "m.optimize()\n",
    "\n",
    "print(f\"Optimal objective value: {m.objVal}\")\n",
    "print(f\"Solution values: x={x.X}, y={y.X}, z={z.X}\")"
   ]
  }
 ],
 "metadata": {
  "language_info": {
   "name": "python"
  }
 },
 "nbformat": 4,
 "nbformat_minor": 2
}
