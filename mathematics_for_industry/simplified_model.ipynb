{
 "cells": [
  {
   "cell_type": "code",
   "execution_count": 1,
   "metadata": {},
   "outputs": [
    {
     "name": "stdout",
     "output_type": "stream",
     "text": [
      "Set parameter Username\n",
      "Academic license - for non-commercial use only - expires 2025-09-02\n"
     ]
    }
   ],
   "source": [
    "import gurobipy as gp\n",
    "\n",
    "# Create a new model\n",
    "m = gp.Model()"
   ]
  },
  {
   "cell_type": "code",
   "execution_count": 2,
   "metadata": {},
   "outputs": [],
   "source": [
    "# Initialize problem parameters\n",
    "scraps = 3\n",
    "boxes = 6\n",
    "\n",
    "set_scraps = range(0, scraps)\n",
    "set_boxes = range(0, boxes + 1)\n",
    "\n",
    "# Box distance matrix\n",
    "d = [[0, 1, 2, 3, 4, 5, 6],\n",
    "    [1, 0, 1, 2, 3, 4, 5],\n",
    "    [2, 1, 0, 1, 2, 3, 4],\n",
    "    [3, 2, 1, 0, 1, 2, 3],\n",
    "    [4, 3, 2, 1, 0, 1, 2],\n",
    "    [5, 4, 3, 2, 1, 0, 1],\n",
    "    [6, 5, 4, 3, 2, 1, 0]]\n",
    "\n",
    "# Distance from hub\n",
    "d_hub = [0, 1, 2, 3, 4, 5, 6]\n",
    "\n",
    "# Distance from end\n",
    "d_end = [6, 5, 4, 3, 2, 1, 0]\n",
    "\n",
    "recipes = [[0, 1], [1, 2], [2, 0]]"
   ]
  },
  {
   "cell_type": "code",
   "execution_count": 3,
   "metadata": {},
   "outputs": [],
   "source": [
    "# Create variables\n",
    "\n",
    "# Assign scraps to boxes\n",
    "x = {}\n",
    "for scrap in set_scraps:\n",
    "    for box in set_boxes:\n",
    "        x[scrap, box] = m.addVar(vtype='B', name=f\"x[{scrap},{box}]\")\n",
    "\n",
    "# Distance from hub to scrap\n",
    "d_hub_var = {}\n",
    "for scrap in set_scraps:\n",
    "    for box in set_boxes:\n",
    "        d_hub_var[scrap, box] = m.addVar(vtype='I', name=f\"d_end[{scrap},{box}]\")\n",
    "\n",
    "# Minimum distance from hub to scrap type\n",
    "x_min = {}\n",
    "for scrap in set_scraps:\n",
    "    x_min[scrap] = m.addVar(vtype='I', name=f\"x_min[{scrap}]\")\n",
    "\n"
   ]
  },
  {
   "cell_type": "code",
   "execution_count": 4,
   "metadata": {},
   "outputs": [],
   "source": [
    "# Add constraints\n",
    "\n",
    "# Each scrap is assigned to at least one box\n",
    "for s in set_scraps:\n",
    "    m.addConstr(sum(x[s, b] for b in set_boxes) >= 1)\n",
    "\n",
    "# Each box is assigned at most one scrap\n",
    "for b in set_boxes[1:]:\n",
    "    m.addConstr(sum(x[s, b] for s in set_scraps) == 1)\n",
    "\n",
    "# Dummy box is empty\n",
    "m.addConstr(sum(x[s, 0] for s in set_scraps) == 0)\n",
    "\n",
    "# D_hub_var is the distance from the hub\n",
    "for s in set_scraps:\n",
    "    for b in set_boxes[1:]:\n",
    "        m.addConstr(d_hub_var[s, b] == boxes - d_end[b] * x[s, b])\n",
    "\n",
    "# X_min is the minimum distance from the hub\n",
    "for s in set_scraps:\n",
    "    m.addGenConstrMin(x_min[s], [d_hub_var[s, b] for b in set_boxes[1:]], name=f\"x_min[{s}]\")\n"
   ]
  },
  {
   "cell_type": "code",
   "execution_count": 5,
   "metadata": {},
   "outputs": [],
   "source": [
    "# Set objective function\n",
    "\n",
    "# Test\n",
    "#objective = gp.quicksum(x[1, b] for b in set_boxes)\n",
    "\n",
    "# Simplified objective\n",
    "objective = gp.quicksum(gp.quicksum(x_min[s] for s in recipe) for recipe in recipes)\n",
    "\n",
    "m.setObjective(objective, gp.GRB.MINIMIZE)"
   ]
  },
  {
   "cell_type": "code",
   "execution_count": 6,
   "metadata": {},
   "outputs": [
    {
     "name": "stdout",
     "output_type": "stream",
     "text": [
      "Gurobi Optimizer version 11.0.3 build v11.0.3rc0 (win64 - Windows 11.0 (22631.2))\n",
      "\n",
      "CPU model: AMD Ryzen 9 PRO 7940HS w/ Radeon 780M Graphics, instruction set [SSE2|AVX|AVX2|AVX512]\n",
      "Thread count: 8 physical cores, 16 logical processors, using up to 16 threads\n",
      "\n",
      "Optimize a model with 28 rows, 45 columns and 75 nonzeros\n",
      "Model fingerprint: 0xca7105dc\n",
      "Model has 3 general constraints\n",
      "Variable types: 0 continuous, 45 integer (21 binary)\n",
      "Coefficient statistics:\n",
      "  Matrix range     [1e+00, 5e+00]\n",
      "  Objective range  [2e+00, 2e+00]\n",
      "  Bounds range     [1e+00, 1e+00]\n",
      "  RHS range        [1e+00, 6e+00]\n",
      "Presolve added 14 rows and 6 columns\n",
      "Presolve time: 0.00s\n",
      "Presolved: 42 rows, 51 columns, 141 nonzeros\n",
      "Variable types: 0 continuous, 51 integer (33 binary)\n",
      "Found heuristic solution: objective 12.0000000\n",
      "\n",
      "Root relaxation: objective 9.384615e+00, 30 iterations, 0.00 seconds (0.00 work units)\n",
      "\n",
      "    Nodes    |    Current Node    |     Objective Bounds      |     Work\n",
      " Expl Unexpl |  Obj  Depth IntInf | Incumbent    BestBd   Gap | It/Node Time\n",
      "\n",
      "     0     0 infeasible    0        12.00000   12.00000  0.00%     -    0s\n",
      "\n",
      "Explored 1 nodes (36 simplex iterations) in 0.01 seconds (0.00 work units)\n",
      "Thread count was 16 (of 16 available processors)\n",
      "\n",
      "Solution count 1: 12 \n",
      "\n",
      "Optimal solution found (tolerance 1.00e-04)\n",
      "Best objective 1.200000000000e+01, best bound 1.200000000000e+01, gap 0.0000%\n"
     ]
    }
   ],
   "source": [
    "# Solve it!\n",
    "m.optimize()"
   ]
  },
  {
   "cell_type": "code",
   "execution_count": 7,
   "metadata": {},
   "outputs": [
    {
     "name": "stdout",
     "output_type": "stream",
     "text": [
      "Optimal objective value: 12.0\n",
      "x[0,1] = 1.0\n",
      "x[1,2] = 1.0\n",
      "x[2,3] = 1.0\n",
      "x[2,4] = 1.0\n",
      "x[2,5] = 1.0\n",
      "x[2,6] = 1.0\n",
      "d_end[0,1] = 1.0\n",
      "d_end[0,2] = 6.0\n",
      "d_end[0,3] = 6.0\n",
      "d_end[0,4] = 6.0\n",
      "d_end[0,5] = 6.0\n",
      "d_end[0,6] = 6.0\n",
      "d_end[1,1] = 6.0\n",
      "d_end[1,2] = 2.0\n",
      "d_end[1,3] = 6.0\n",
      "d_end[1,4] = 6.0\n",
      "d_end[1,5] = 6.0\n",
      "d_end[1,6] = 6.0\n",
      "d_end[2,1] = 6.0\n",
      "d_end[2,2] = 6.0\n",
      "d_end[2,3] = 3.0\n",
      "d_end[2,4] = 4.0\n",
      "d_end[2,5] = 5.0\n",
      "d_end[2,6] = 6.0\n",
      "x_min[0] = 1.0\n",
      "x_min[1] = 2.0\n",
      "x_min[2] = 3.0\n"
     ]
    }
   ],
   "source": [
    "# Show solution\n",
    "print(f\"Optimal objective value: {m.objVal}\")\n",
    "\n",
    "for v in m.getVars():\n",
    "    if v.X > 0:\n",
    "        print(f\"{v.VarName} = {v.X}\")"
   ]
  }
 ],
 "metadata": {
  "kernelspec": {
   "display_name": "mathematics-for-industry-vnQux07h-py3.11",
   "language": "python",
   "name": "python3"
  },
  "language_info": {
   "codemirror_mode": {
    "name": "ipython",
    "version": 3
   },
   "file_extension": ".py",
   "mimetype": "text/x-python",
   "name": "python",
   "nbconvert_exporter": "python",
   "pygments_lexer": "ipython3",
   "version": "3.11.6"
  }
 },
 "nbformat": 4,
 "nbformat_minor": 2
}
