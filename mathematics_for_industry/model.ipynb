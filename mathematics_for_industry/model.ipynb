{
 "cells": [
  {
   "cell_type": "code",
   "execution_count": 1,
   "metadata": {},
   "outputs": [],
   "source": [
    "# # Solve the following MIP:\n",
    "# #  maximize\n",
    "# #        x +   y + 2 z\n",
    "# #  subject to\n",
    "# #        x + 2 y + 3 z <= 4\n",
    "# #        x +   y       >= 1\n",
    "# #        x, y, z binary\n",
    "\n",
    "# import gurobipy as gp\n",
    "\n",
    "# # Create a new model\n",
    "# m = gp.Model()\n",
    "\n",
    "# # Create variables\n",
    "# x = m.addVar(vtype='B', name=\"x\")\n",
    "# y = m.addVar(vtype='B', name=\"y\")\n",
    "# z = m.addVar(vtype='B', name=\"z\")\n",
    "\n",
    "# # Set objective function\n",
    "# m.setObjective(x + y + 2 * z, gp.GRB.MAXIMIZE)\n",
    "\n",
    "# # Add constraints\n",
    "# m.addConstr(x + 2 * y + 3 * z <= 4)\n",
    "# m.addConstr(x + y >= 1)\n",
    "\n",
    "# # Solve it!\n",
    "# m.optimize()\n",
    "\n",
    "# print(f\"Optimal objective value: {m.objVal}\")\n",
    "# print(f\"Solution values: x={x.X}, y={y.X}, z={z.X}\")"
   ]
  },
  {
   "cell_type": "code",
   "execution_count": 2,
   "metadata": {},
   "outputs": [
    {
     "name": "stdout",
     "output_type": "stream",
     "text": [
      "Set parameter Username\n",
      "Academic license - for non-commercial use only - expires 2025-09-02\n"
     ]
    }
   ],
   "source": [
    "import gurobipy as gp\n",
    "\n",
    "# Create a new model\n",
    "m = gp.Model()"
   ]
  },
  {
   "cell_type": "code",
   "execution_count": 3,
   "metadata": {},
   "outputs": [],
   "source": [
    "# Initialize problem parameters\n",
    "scraps = 3\n",
    "boxes = 6\n",
    "\n",
    "set_scraps = range(0, scraps)\n",
    "set_boxes = range(0, boxes + 1)\n",
    "\n",
    "# Box distance matrix\n",
    "d = [[0, 1, 2, 3, 4, 5, 6],\n",
    "    [1, 0, 1, 2, 3, 4, 5],\n",
    "    [2, 1, 0, 1, 2, 3, 4],\n",
    "    [3, 2, 1, 0, 1, 2, 3],\n",
    "    [4, 3, 2, 1, 0, 1, 2],\n",
    "    [5, 4, 3, 2, 1, 0, 1],\n",
    "    [6, 5, 4, 3, 2, 1, 0]]\n",
    "\n",
    "# Distance from hub\n",
    "d_hub = [0, 1, 2, 3, 4, 5, 6]\n",
    "\n",
    "recipes = [[0, 1], [1, 2], [2, 0]]"
   ]
  },
  {
   "cell_type": "code",
   "execution_count": 4,
   "metadata": {},
   "outputs": [
    {
     "data": {
      "text/plain": [
       "{(0, 0): <gurobi.Var *Awaiting Model Update*>,\n",
       " (0, 1): <gurobi.Var *Awaiting Model Update*>,\n",
       " (0, 2): <gurobi.Var *Awaiting Model Update*>,\n",
       " (0, 3): <gurobi.Var *Awaiting Model Update*>,\n",
       " (0, 4): <gurobi.Var *Awaiting Model Update*>,\n",
       " (0, 5): <gurobi.Var *Awaiting Model Update*>,\n",
       " (0, 6): <gurobi.Var *Awaiting Model Update*>,\n",
       " (1, 0): <gurobi.Var *Awaiting Model Update*>,\n",
       " (1, 1): <gurobi.Var *Awaiting Model Update*>,\n",
       " (1, 2): <gurobi.Var *Awaiting Model Update*>,\n",
       " (1, 3): <gurobi.Var *Awaiting Model Update*>,\n",
       " (1, 4): <gurobi.Var *Awaiting Model Update*>,\n",
       " (1, 5): <gurobi.Var *Awaiting Model Update*>,\n",
       " (1, 6): <gurobi.Var *Awaiting Model Update*>,\n",
       " (2, 0): <gurobi.Var *Awaiting Model Update*>,\n",
       " (2, 1): <gurobi.Var *Awaiting Model Update*>,\n",
       " (2, 2): <gurobi.Var *Awaiting Model Update*>,\n",
       " (2, 3): <gurobi.Var *Awaiting Model Update*>,\n",
       " (2, 4): <gurobi.Var *Awaiting Model Update*>,\n",
       " (2, 5): <gurobi.Var *Awaiting Model Update*>,\n",
       " (2, 6): <gurobi.Var *Awaiting Model Update*>}"
      ]
     },
     "execution_count": 4,
     "metadata": {},
     "output_type": "execute_result"
    }
   ],
   "source": [
    "# Create variables\n",
    "\n",
    "x = {}\n",
    "for scrap in set_scraps:\n",
    "    for box in set_boxes:\n",
    "        x[scrap, box] = m.addVar(vtype='B', name=f\"x[{scrap},{box}]\")\n",
    "\n",
    "x"
   ]
  },
  {
   "cell_type": "code",
   "execution_count": 5,
   "metadata": {},
   "outputs": [
    {
     "data": {
      "text/plain": [
       "<gurobi.Constr *Awaiting Model Update*>"
      ]
     },
     "execution_count": 5,
     "metadata": {},
     "output_type": "execute_result"
    }
   ],
   "source": [
    "# Add constraints\n",
    "\n",
    "# Each scrap is assigned to at least one box\n",
    "for s in set_scraps:\n",
    "    m.addConstr(sum(x[s, b] for b in set_boxes) >= 1)\n",
    "\n",
    "# Each box is assigned at most one scrap\n",
    "for b in set_boxes[1:]:\n",
    "    m.addConstr(sum(x[s, b] for s in set_scraps) == 1)\n",
    "\n",
    "# Dummy box is empty\n",
    "m.addConstr(sum(x[s, 0] for s in set_scraps) == 0)\n"
   ]
  },
  {
   "cell_type": "code",
   "execution_count": 6,
   "metadata": {},
   "outputs": [],
   "source": [
    "# Set objective function\n",
    "\n",
    "# Test\n",
    "#objective = gp.quicksum(x[1, b] for b in set_boxes)\n",
    "\n",
    "# Simplified objective\n",
    "objective = gp.quicksum(gp.quicksum(d_hub[b] * x[s, b] for b in set_boxes for s in recipe) for recipe in recipes)\n",
    "\n",
    "m.setObjective(objective, gp.GRB.MINIMIZE)"
   ]
  },
  {
   "cell_type": "code",
   "execution_count": 7,
   "metadata": {},
   "outputs": [
    {
     "name": "stdout",
     "output_type": "stream",
     "text": [
      "Gurobi Optimizer version 11.0.3 build v11.0.3rc0 (win64 - Windows 11.0 (22631.2))\n",
      "\n",
      "CPU model: AMD Ryzen 9 PRO 7940HS w/ Radeon 780M Graphics, instruction set [SSE2|AVX|AVX2|AVX512]\n",
      "Thread count: 8 physical cores, 16 logical processors, using up to 16 threads\n",
      "\n",
      "Optimize a model with 10 rows, 21 columns and 42 nonzeros\n",
      "Model fingerprint: 0x4323a326\n",
      "Variable types: 0 continuous, 21 integer (21 binary)\n",
      "Coefficient statistics:\n",
      "  Matrix range     [1e+00, 1e+00]\n",
      "  Objective range  [2e+00, 1e+01]\n",
      "  Bounds range     [1e+00, 1e+00]\n",
      "  RHS range        [1e+00, 1e+00]\n",
      "Found heuristic solution: objective 42.0000000\n",
      "Presolve removed 1 rows and 3 columns\n",
      "Presolve time: 0.00s\n",
      "Presolved: 9 rows, 18 columns, 36 nonzeros\n",
      "Variable types: 0 continuous, 18 integer (18 binary)\n",
      "\n",
      "Explored 0 nodes (0 simplex iterations) in 0.00 seconds (0.00 work units)\n",
      "Thread count was 16 (of 16 available processors)\n",
      "\n",
      "Solution count 1: 42 \n",
      "\n",
      "Optimal solution found (tolerance 1.00e-04)\n",
      "Best objective 4.200000000000e+01, best bound 4.200000000000e+01, gap 0.0000%\n"
     ]
    }
   ],
   "source": [
    "# Solve it!\n",
    "m.optimize()"
   ]
  },
  {
   "cell_type": "code",
   "execution_count": 8,
   "metadata": {},
   "outputs": [
    {
     "name": "stdout",
     "output_type": "stream",
     "text": [
      "Optimal objective value: 42.0\n",
      "x[0,6] = 1.0\n",
      "x[1,2] = 1.0\n",
      "x[1,4] = 1.0\n",
      "x[1,5] = 1.0\n",
      "x[2,1] = 1.0\n",
      "x[2,3] = 1.0\n"
     ]
    }
   ],
   "source": [
    "# Show solution\n",
    "print(f\"Optimal objective value: {m.objVal}\")\n",
    "\n",
    "for v in m.getVars():\n",
    "    if v.X > 0:\n",
    "        print(f\"{v.VarName} = {v.X}\")"
   ]
  }
 ],
 "metadata": {
  "kernelspec": {
   "display_name": "mathematics-for-industry-vnQux07h-py3.11",
   "language": "python",
   "name": "python3"
  },
  "language_info": {
   "codemirror_mode": {
    "name": "ipython",
    "version": 3
   },
   "file_extension": ".py",
   "mimetype": "text/x-python",
   "name": "python",
   "nbconvert_exporter": "python",
   "pygments_lexer": "ipython3",
   "version": "3.11.6"
  }
 },
 "nbformat": 4,
 "nbformat_minor": 2
}
